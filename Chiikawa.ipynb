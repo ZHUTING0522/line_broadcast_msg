{
  "nbformat": 4,
  "nbformat_minor": 0,
  "metadata": {
    "colab": {
      "provenance": [],
      "authorship_tag": "ABX9TyOcA8Tgb0hHtdxHYh8s8wfC",
      "include_colab_link": true
    },
    "kernelspec": {
      "name": "python3",
      "display_name": "Python 3"
    },
    "language_info": {
      "name": "python"
    }
  },
  "cells": [
    {
      "cell_type": "markdown",
      "metadata": {
        "id": "view-in-github",
        "colab_type": "text"
      },
      "source": [
        "<a href=\"https://colab.research.google.com/github/ZHUTING0522/line_broadcast_msg/blob/main/Chiikawa.ipynb\" target=\"_parent\"><img src=\"https://colab.research.google.com/assets/colab-badge.svg\" alt=\"Open In Colab\"/></a>"
      ]
    },
    {
      "cell_type": "code",
      "execution_count": null,
      "metadata": {
        "collapsed": true,
        "id": "lRagi3MmEGil"
      },
      "outputs": [],
      "source": [
        "!pip install scikit-learn matplotlib mecab-python3"
      ]
    },
    {
      "cell_type": "code",
      "source": [
        "!apt-get install -y mecab libmecab-dev mecab-ipadic-utf8"
      ],
      "metadata": {
        "collapsed": true,
        "id": "UcV2fk7MQTTf"
      },
      "execution_count": null,
      "outputs": []
    },
    {
      "cell_type": "code",
      "source": [
        "import pandas as pd\n",
        "import re\n",
        "import MeCab\n",
        "from sklearn.feature_extraction.text import TfidfVectorizer\n",
        "from sklearn.model_selection import train_test_split\n",
        "from sklearn.linear_model import LogisticRegression\n",
        "from sklearn.metrics import classification_report\n",
        "import matplotlib.pyplot as plt"
      ],
      "metadata": {
        "id": "hUDgO9eQQZdQ"
      },
      "execution_count": 3,
      "outputs": []
    },
    {
      "cell_type": "code",
      "source": [
        "from google.colab import files\n",
        "uploaded = files.upload()"
      ],
      "metadata": {
        "id": "SC2BUX5JRQ5X"
      },
      "execution_count": null,
      "outputs": []
    },
    {
      "cell_type": "code",
      "source": [
        "def preprocess_text(text):\n",
        "    \"\"\"Preprocess the input text for Japanese text analysis.\"\"\"\n",
        "    mecab = MeCab.Tagger(\"-Owakati\")  # Tokenizer for Japanese\n",
        "    text = re.sub(r'http\\S+|www\\S+', '', text)  # Remove URLs\n",
        "    text = re.sub(r'[\\d\\W]+', ' ', text)  # Remove non-alphanumeric characters\n",
        "    text = mecab.parse(text).strip()  # Tokenize using MeCab\n",
        "    return text\n",
        "\n",
        "# Load data (CSV should have columns: 'content' and 'sentiment')\n",
        "def load_and_preprocess_data(filename):\n",
        "    df = pd.read_csv(filename)\n",
        "    df['cleaned_content'] = df['content'].apply(preprocess_text)\n",
        "    return df"
      ],
      "metadata": {
        "id": "L3tsLGtvQfVm"
      },
      "execution_count": 13,
      "outputs": []
    },
    {
      "cell_type": "code",
      "source": [
        "def extract_features(data, max_features=5000):\n",
        "    vectorizer = TfidfVectorizer(max_features=max_features)\n",
        "    X = vectorizer.fit_transform(data['cleaned_content'])\n",
        "    return X, vectorizer"
      ],
      "metadata": {
        "id": "PxNlQHYFQiEh"
      },
      "execution_count": 14,
      "outputs": []
    },
    {
      "cell_type": "code",
      "source": [
        "def train_and_evaluate_model(X, y):\n",
        "    X_train, X_test, y_train, y_test = train_test_split(X, y, test_size=0.2, random_state=42)\n",
        "    model = LogisticRegression(max_iter=1000, random_state=42)\n",
        "    model.fit(X_train, y_train)\n",
        "    y_pred = model.predict(X_test)\n",
        "    print(\"Classification Report:\\n\", classification_report(y_test, y_pred))\n",
        "    return model"
      ],
      "metadata": {
        "id": "xr2JtRpYQk7_"
      },
      "execution_count": 15,
      "outputs": []
    },
    {
      "cell_type": "code",
      "source": [
        "def predict_sentiment(text, model, vectorizer):\n",
        "    cleaned_text = preprocess_text(text)\n",
        "    vectorized_text = vectorizer.transform([cleaned_text])\n",
        "    return model.predict(vectorized_text)[0]"
      ],
      "metadata": {
        "id": "CGummkDUQn5Z"
      },
      "execution_count": 16,
      "outputs": []
    },
    {
      "cell_type": "code",
      "source": [
        "def visualize_sentiment_distribution(data):\n",
        "    sentiment_counts = data['sentiment'].value_counts()\n",
        "    plt.figure(figsize=(8, 6))\n",
        "    sentiment_counts.plot.pie(autopct='%1.1f%%', startangle=140, colors=['#66c2a5', '#fc8d62', '#8da0cb'])\n",
        "    plt.title('Sentiment Distribution')\n",
        "    plt.ylabel('')\n",
        "    plt.show()"
      ],
      "metadata": {
        "id": "4yxnD5jfQqs5"
      },
      "execution_count": 17,
      "outputs": []
    },
    {
      "cell_type": "code",
      "source": [
        "def main():\n",
        "    # Load and preprocess data\n",
        "    filename = 'chiikawa_posts (1).csv'  # Replace with your CSV file path\n",
        "    df = pd.read_csv(filename) # This line was missing, causing an error. You need to load the DataFrame first.\n",
        "    df['cleaned_content'] = df['content'].apply(preprocess_text)\n",
        "    # The 'return df' statement was here, causing the issue. Removing it allows the rest of the function to execute.\n",
        "\n",
        "    # Feature extraction\n",
        "    X, vectorizer = extract_features(df)\n",
        "    y = df['sentiment']\n",
        "\n",
        "    # Train and evaluate model\n",
        "    model = train_and_evaluate_model(X, y)\n",
        "\n",
        "    # Visualize sentiment distribution\n",
        "    visualize_sentiment_distribution(df)\n",
        "\n",
        "    # Example prediction\n",
        "    new_post = \"ちいかわの新しいグッズは素敵すぎる！\"\n",
        "    sentiment = predict_sentiment(new_post, model, vectorizer)\n",
        "    print(f\"Predicted sentiment for the post: {sentiment}\")\n",
        "    return df # Moved the return statement to the end of the function\n",
        "\n",
        "if __name__ == \"__main__\":\n",
        "    main()"
      ],
      "metadata": {
        "id": "Xk_KtvoHp6bQ"
      },
      "execution_count": null,
      "outputs": []
    }
  ]
}